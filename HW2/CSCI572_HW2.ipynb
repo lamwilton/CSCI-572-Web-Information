{
  "nbformat": 4,
  "nbformat_minor": 0,
  "metadata": {
    "colab": {
      "name": "CSCI572_HW2.ipynb",
      "provenance": [],
      "authorship_tag": "ABX9TyOp2bWcd9+l5M4Op72b+UP6",
      "include_colab_link": true
    },
    "kernelspec": {
      "name": "python3",
      "display_name": "Python 3"
    }
  },
  "cells": [
    {
      "cell_type": "markdown",
      "metadata": {
        "id": "view-in-github",
        "colab_type": "text"
      },
      "source": [
        "<a href=\"https://colab.research.google.com/github/lamwilton/CSCI-572-Web-Information/blob/master/HW2/CSCI572_HW2.ipynb\" target=\"_parent\"><img src=\"https://colab.research.google.com/assets/colab-badge.svg\" alt=\"Open In Colab\"/></a>"
      ]
    },
    {
      "cell_type": "code",
      "metadata": {
        "id": "ZAoOQsUg5j40",
        "colab_type": "code",
        "colab": {}
      },
      "source": [
        "import pandas as pd\n",
        "import numpy as np"
      ],
      "execution_count": 12,
      "outputs": []
    },
    {
      "cell_type": "code",
      "metadata": {
        "id": "q14Xscpg5tMl",
        "colab_type": "code",
        "colab": {
          "base_uri": "https://localhost:8080/",
          "height": 34
        },
        "outputId": "53bee0b7-30a8-4d5f-bfb5-92f4f6c01186"
      },
      "source": [
        "from google.colab import drive\n",
        "drive.mount('/content/drive', force_remount=True)"
      ],
      "execution_count": 13,
      "outputs": [
        {
          "output_type": "stream",
          "text": [
            "Mounted at /content/drive\n"
          ],
          "name": "stdout"
        }
      ]
    },
    {
      "cell_type": "code",
      "metadata": {
        "id": "Kv4IQxdm6Mhf",
        "colab_type": "code",
        "colab": {}
      },
      "source": [
        "fetch_file = \"/content/drive/My Drive/CSCI572/fetch_usatoday.csv\"\n",
        "url_file = \"/content/drive/My Drive/CSCI572/urls_usatoday.csv\"\n",
        "visit_file = \"/content/drive/My Drive/CSCI572/visit_usatoday.csv\"\n",
        "fetch_df = pd.read_csv(fetch_file)\n",
        "url_df = pd.read_csv(url_file)\n",
        "visit_df = pd.read_csv(visit_file)"
      ],
      "execution_count": 14,
      "outputs": []
    },
    {
      "cell_type": "code",
      "metadata": {
        "id": "9tdT73itFZCs",
        "colab_type": "code",
        "colab": {
          "base_uri": "https://localhost:8080/",
          "height": 68
        },
        "outputId": "0346a025-e63b-42a5-c64b-a758853ce96a"
      },
      "source": [
        "fetch_attempted = len(fetch_df)\n",
        "fetch_succeded = len(fetch_df[fetch_df.Status == 200])\n",
        "fetch_failed = len(fetch_df[fetch_df.Status != 200])\n",
        "print(fetch_attempted)\n",
        "print(fetch_succeded)\n",
        "print(fetch_failed)"
      ],
      "execution_count": 15,
      "outputs": [
        {
          "output_type": "stream",
          "text": [
            "20000\n",
            "17682\n",
            "2318\n"
          ],
          "name": "stdout"
        }
      ]
    },
    {
      "cell_type": "code",
      "metadata": {
        "id": "H9FqSxj-GSpo",
        "colab_type": "code",
        "colab": {
          "base_uri": "https://localhost:8080/",
          "height": 85
        },
        "outputId": "f9d59df8-7e13-42eb-c6d9-1f9d7ede76c5"
      },
      "source": [
        "total_url = len(url_df)\n",
        "url_uniq_df = url_df.drop_duplicates()\n",
        "unique_url = len(url_uniq_df)\n",
        "unique_url_within = len(url_uniq_df[url_uniq_df.point == \"OK\"])\n",
        "unique_url_out = len(url_uniq_df[url_uniq_df.point == \"N_OK\"])\n",
        "print(total_url)\n",
        "print(unique_url)\n",
        "print(unique_url_within)\n",
        "print(unique_url_out)"
      ],
      "execution_count": 16,
      "outputs": [
        {
          "output_type": "stream",
          "text": [
            "3179038\n",
            "770518\n",
            "572404\n",
            "198108\n"
          ],
          "name": "stdout"
        }
      ]
    },
    {
      "cell_type": "code",
      "metadata": {
        "id": "up-eQcKaHZkw",
        "colab_type": "code",
        "colab": {
          "base_uri": "https://localhost:8080/",
          "height": 34
        },
        "outputId": "55737996-c557-4a60-c3b0-fbfa157a8bf2"
      },
      "source": [
        "pd.unique(fetch_df.Status)"
      ],
      "execution_count": 17,
      "outputs": [
        {
          "output_type": "execute_result",
          "data": {
            "text/plain": [
              "array([200, 301, 307, 303, 500, 404, 502])"
            ]
          },
          "metadata": {
            "tags": []
          },
          "execution_count": 17
        }
      ]
    },
    {
      "cell_type": "code",
      "metadata": {
        "id": "IvVyiB4AHkqu",
        "colab_type": "code",
        "colab": {
          "base_uri": "https://localhost:8080/",
          "height": 136
        },
        "outputId": "56a9b1c5-2e84-46fe-815e-7863509ec8f7"
      },
      "source": [
        "s200 = len(fetch_df[fetch_df.Status == 200])\n",
        "s301 = len(fetch_df[fetch_df.Status == 301])\n",
        "s303 = len(fetch_df[fetch_df.Status == 303])\n",
        "s307 = len(fetch_df[fetch_df.Status == 307])\n",
        "s404 = len(fetch_df[fetch_df.Status == 404])\n",
        "s500 = len(fetch_df[fetch_df.Status == 500])\n",
        "s502 = len(fetch_df[fetch_df.Status == 502])\n",
        "print(s200)\n",
        "print(s301)\n",
        "print(s303)\n",
        "print(s307)\n",
        "print(s404)\n",
        "print(s500)\n",
        "print(s502)"
      ],
      "execution_count": 18,
      "outputs": [
        {
          "output_type": "stream",
          "text": [
            "17682\n",
            "1318\n",
            "471\n",
            "484\n",
            "1\n",
            "42\n",
            "2\n"
          ],
          "name": "stdout"
        }
      ]
    },
    {
      "cell_type": "code",
      "metadata": {
        "id": "OSN7bWtXH8bK",
        "colab_type": "code",
        "colab": {
          "base_uri": "https://localhost:8080/",
          "height": 102
        },
        "outputId": "6cd2347b-6871-43ab-c810-ca4e6e6fc21f"
      },
      "source": [
        "size1 = len(visit_df[visit_df.Size < 1024])\n",
        "size2 = len(visit_df[(visit_df.Size >= 1024) & (visit_df.Size < 10240)])\n",
        "size3 = len(visit_df[(visit_df.Size >= 10240) & (visit_df.Size < 102400)])\n",
        "size4 = len(visit_df[(visit_df.Size >= 102400) & (visit_df.Size < 1048576)])\n",
        "size5 = len(visit_df[visit_df.Size >= 1048576])\n",
        "\n",
        "print(size1)\n",
        "print(size2)\n",
        "print(size3)\n",
        "print(size4)\n",
        "print(size5)"
      ],
      "execution_count": 21,
      "outputs": [
        {
          "output_type": "stream",
          "text": [
            "0\n",
            "2\n",
            "239\n",
            "17395\n",
            "46\n"
          ],
          "name": "stdout"
        }
      ]
    },
    {
      "cell_type": "code",
      "metadata": {
        "id": "j3qwMDjRI-Rm",
        "colab_type": "code",
        "colab": {
          "base_uri": "https://localhost:8080/",
          "height": 34
        },
        "outputId": "73cde670-3139-49b5-d972-7b6410eecf6d"
      },
      "source": [
        "pd.unique(visit_df[\"Content Type\"])"
      ],
      "execution_count": 22,
      "outputs": [
        {
          "output_type": "execute_result",
          "data": {
            "text/plain": [
              "array(['text/html', 'image/svg+xml'], dtype=object)"
            ]
          },
          "metadata": {
            "tags": []
          },
          "execution_count": 22
        }
      ]
    },
    {
      "cell_type": "code",
      "metadata": {
        "id": "gJ-kdCVqJFbD",
        "colab_type": "code",
        "colab": {
          "base_uri": "https://localhost:8080/",
          "height": 51
        },
        "outputId": "1fbe2305-418d-4665-980b-0dc9ab10119b"
      },
      "source": [
        "typetext = len(visit_df[visit_df[\"Content Type\"] == \"text/html\"])\n",
        "typeimg = len(visit_df[visit_df[\"Content Type\"] == \"image/svg+xml\"])\n",
        "print(typetext)\n",
        "print(typeimg)"
      ],
      "execution_count": 24,
      "outputs": [
        {
          "output_type": "stream",
          "text": [
            "17681\n",
            "1\n"
          ],
          "name": "stdout"
        }
      ]
    },
    {
      "cell_type": "code",
      "metadata": {
        "id": "riD8qeVlJWab",
        "colab_type": "code",
        "colab": {}
      },
      "source": [
        "with open(\"/content/drive/My Drive/CSCI572/CrawlReport_NewsSite.txt\", \"w+\") as file:\n",
        "  file.write(\"Name: Ting Fung Lam\\n\")\n",
        "  file.write(\"USC ID: 2924629375\\n\")\n",
        "  file.write(\"News site crawled: usatoday.com\\n\")\n",
        "  file.write(\"Number of threads: 5\\n\")\n",
        "  file.write(\"\\n\")\n",
        "\n",
        "  file.write(\"Fetch Statistics\\n\")\n",
        "  file.write(\"================\\n\")\n",
        "  file.write(f\"# fetches attempted: {str(fetch_attempted)}\\n\")\n",
        "  file.write(f\"# fetches succeeded: {str(fetch_succeded)}\\n\")\n",
        "  file.write(f\"# fetches failed: {str(fetch_failed)}\\n\")\n",
        "  file.write(\"\\n\")\n",
        "\n",
        "  file.write(\"Outgoing URLs:\\n\")\n",
        "  file.write(\"==============\\n\")\n",
        "  file.write(f\"Total URLs extracted: {str(total_url)}\\n\")\n",
        "  file.write(f\"# unique URLs extracted: {str(unique_url)}\\n\")\n",
        "  file.write(f\"# unique URLs extracted within News Site: {str(unique_url_within)}\\n\")\n",
        "  file.write(f\"# unique URLs extracted outside News Site: {str(unique_url_out)}\\n\")\n",
        "  file.write(\"\\n\")\n",
        "\n",
        "  file.write(\"Status Codes:\\n\")\n",
        "  file.write(\"=============\\n\")\n",
        "  file.write(f\"200 OK: {str(s200)}\\n\")\n",
        "  file.write(f\"301 Moved Permanently: {str(s301)}\\n\")\n",
        "  file.write(f\"307 Temporary Redirect: {str(s307)}\\n\")\n",
        "  file.write(f\"404 Not Found: {str(s404)}\\n\")\n",
        "  file.write(f\"500 Internal Server Error: {str(s500)}\\n\")\n",
        "  file.write(f\"502 Bad Gateway:  {str(s502)}\\n\")\n",
        "  file.write(\"\\n\")\n",
        "\n",
        "  file.write(\"File Sizes:\\n\")\n",
        "  file.write(\"===========\\n\")\n",
        "  file.write(f\"< 1KB: {str(size1)}\\n\")\n",
        "  file.write(f\"1KB ~ <10KB: {str(size2)}\\n\")\n",
        "  file.write(f\"10KB ~ <100KB: {str(size3)}\\n\")  \n",
        "  file.write(f\"100KB ~ <1MB: {str(size4)}\\n\")  \n",
        "  file.write(f\">= 1MB: {str(size5)}\\n\")\n",
        "  file.write(\"\\n\")\n",
        "\n",
        "  file.write(\"Content Types:\\n\")\n",
        "  file.write(\"==============\\n\")\n",
        "  file.write(f\"text/html: {str(typetext)}\\n\")\n",
        "  file.write(f\"image/svg+xml: {str(typeimg)}\")"
      ],
      "execution_count": 28,
      "outputs": []
    }
  ]
}